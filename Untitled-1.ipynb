{
 "cells": [
  {
   "cell_type": "markdown",
   "metadata": {},
   "source": [
    "Prueba Técnica HIRCASA"
   ]
  },
  {
   "cell_type": "code",
   "execution_count": 23,
   "metadata": {},
   "outputs": [],
   "source": [
    "import pandas as pd\n",
    "import numpy as np\n",
    "import matplotlib.pyplot as plt\n",
    "import seaborn as sns\n",
    "from sklearn.model_selection import train_test_split\n",
    "from sklearn.ensemble import GradientBoostingClassifier, RandomForestClassifier\n",
    "from sklearn.linear_model import LogisticRegression\n",
    "from xgboost import XGBClassifier\n",
    "from sklearn.metrics import roc_auc_score, classification_report, accuracy_score, precision_score, recall_score\n"
   ]
  },
  {
   "cell_type": "code",
   "execution_count": 24,
   "metadata": {},
   "outputs": [],
   "source": [
    "#Carga de datos\n",
    "data = pd.read_excel('data (1).xlsx')\n",
    "data_to_predict = pd.read_excel('data_to_predict (1).xlsx')\n",
    "data.to_csv('data.csv', index=False)\n",
    "data_to_predict.to_csv('data_to_predict.csv', index=False)\n",
    "df_data=pd.read_csv('data.csv')\n",
    "df_data_to_predict=pd.read_csv('data_to_predict.csv')\n",
    "\n"
   ]
  },
  {
   "cell_type": "markdown",
   "metadata": {},
   "source": [
    "EDA y Limpieza"
   ]
  },
  {
   "cell_type": "code",
   "execution_count": 25,
   "metadata": {},
   "outputs": [
    {
     "data": {
      "text/html": [
       "<div>\n",
       "<style scoped>\n",
       "    .dataframe tbody tr th:only-of-type {\n",
       "        vertical-align: middle;\n",
       "    }\n",
       "\n",
       "    .dataframe tbody tr th {\n",
       "        vertical-align: top;\n",
       "    }\n",
       "\n",
       "    .dataframe thead th {\n",
       "        text-align: right;\n",
       "    }\n",
       "</style>\n",
       "<table border=\"1\" class=\"dataframe\">\n",
       "  <thead>\n",
       "    <tr style=\"text-align: right;\">\n",
       "      <th></th>\n",
       "      <th>ID</th>\n",
       "      <th>ind_malo</th>\n",
       "      <th>hora_reg_norm</th>\n",
       "      <th>dia_reg</th>\n",
       "      <th>medio_contacto_grupo</th>\n",
       "      <th>tipo_mail_rango</th>\n",
       "      <th>ingreso_propio_norm</th>\n",
       "      <th>edad_norm</th>\n",
       "      <th>sexo</th>\n",
       "      <th>nivel_estudios</th>\n",
       "      <th>...</th>\n",
       "      <th>COMUNICACIONES</th>\n",
       "      <th>con_2m_norm</th>\n",
       "      <th>BURO_DE_CREDITO_C</th>\n",
       "      <th>BANCO_C</th>\n",
       "      <th>SIC_C</th>\n",
       "      <th>FINANCIERA_C</th>\n",
       "      <th>CONSUMIDOR_FINAL_C</th>\n",
       "      <th>MICROFINANCIERA_C</th>\n",
       "      <th>TIENDA_COMERCIAL_C</th>\n",
       "      <th>BANCOS_C</th>\n",
       "    </tr>\n",
       "  </thead>\n",
       "  <tbody>\n",
       "    <tr>\n",
       "      <th>0</th>\n",
       "      <td>517534</td>\n",
       "      <td>0</td>\n",
       "      <td>0.434783</td>\n",
       "      <td>6</td>\n",
       "      <td>El Mejor Trato</td>\n",
       "      <td>hot</td>\n",
       "      <td>0.214286</td>\n",
       "      <td>0.006562</td>\n",
       "      <td>Mujer</td>\n",
       "      <td>Licenciatura</td>\n",
       "      <td>...</td>\n",
       "      <td>0.000000</td>\n",
       "      <td>0.200000</td>\n",
       "      <td>0.277778</td>\n",
       "      <td>0.166667</td>\n",
       "      <td>0.166667</td>\n",
       "      <td>0.111111</td>\n",
       "      <td>0.166667</td>\n",
       "      <td>0.0</td>\n",
       "      <td>0.055556</td>\n",
       "      <td>0.000000</td>\n",
       "    </tr>\n",
       "    <tr>\n",
       "      <th>1</th>\n",
       "      <td>1143911</td>\n",
       "      <td>0</td>\n",
       "      <td>0.869565</td>\n",
       "      <td>3</td>\n",
       "      <td>Facebook</td>\n",
       "      <td>gma</td>\n",
       "      <td>0.089286</td>\n",
       "      <td>0.014639</td>\n",
       "      <td>Hombre</td>\n",
       "      <td>Maestria</td>\n",
       "      <td>...</td>\n",
       "      <td>0.277778</td>\n",
       "      <td>0.266667</td>\n",
       "      <td>0.360000</td>\n",
       "      <td>0.320000</td>\n",
       "      <td>0.040000</td>\n",
       "      <td>0.160000</td>\n",
       "      <td>0.040000</td>\n",
       "      <td>0.0</td>\n",
       "      <td>0.000000</td>\n",
       "      <td>0.000000</td>\n",
       "    </tr>\n",
       "    <tr>\n",
       "      <th>2</th>\n",
       "      <td>1124994</td>\n",
       "      <td>0</td>\n",
       "      <td>0.956522</td>\n",
       "      <td>1</td>\n",
       "      <td>El Mejor Trato</td>\n",
       "      <td>gma</td>\n",
       "      <td>0.071429</td>\n",
       "      <td>0.016153</td>\n",
       "      <td>Hombre</td>\n",
       "      <td>Bachillerato</td>\n",
       "      <td>...</td>\n",
       "      <td>0.090909</td>\n",
       "      <td>0.066667</td>\n",
       "      <td>0.111111</td>\n",
       "      <td>0.111111</td>\n",
       "      <td>0.222222</td>\n",
       "      <td>0.000000</td>\n",
       "      <td>0.222222</td>\n",
       "      <td>0.0</td>\n",
       "      <td>0.222222</td>\n",
       "      <td>0.000000</td>\n",
       "    </tr>\n",
       "    <tr>\n",
       "      <th>3</th>\n",
       "      <td>200051</td>\n",
       "      <td>0</td>\n",
       "      <td>0.565217</td>\n",
       "      <td>2</td>\n",
       "      <td>Otro_medio</td>\n",
       "      <td>hot</td>\n",
       "      <td>0.125000</td>\n",
       "      <td>0.015144</td>\n",
       "      <td>Mujer</td>\n",
       "      <td>Bachillerato</td>\n",
       "      <td>...</td>\n",
       "      <td>0.058824</td>\n",
       "      <td>0.133333</td>\n",
       "      <td>0.142857</td>\n",
       "      <td>0.000000</td>\n",
       "      <td>0.000000</td>\n",
       "      <td>0.714286</td>\n",
       "      <td>0.000000</td>\n",
       "      <td>0.0</td>\n",
       "      <td>0.000000</td>\n",
       "      <td>0.000000</td>\n",
       "    </tr>\n",
       "    <tr>\n",
       "      <th>4</th>\n",
       "      <td>528679</td>\n",
       "      <td>0</td>\n",
       "      <td>0.434783</td>\n",
       "      <td>2</td>\n",
       "      <td>Otro_medio</td>\n",
       "      <td>hot</td>\n",
       "      <td>0.055714</td>\n",
       "      <td>0.003029</td>\n",
       "      <td>Hombre</td>\n",
       "      <td>Bachillerato</td>\n",
       "      <td>...</td>\n",
       "      <td>0.000000</td>\n",
       "      <td>0.066667</td>\n",
       "      <td>0.266667</td>\n",
       "      <td>0.266667</td>\n",
       "      <td>0.133333</td>\n",
       "      <td>0.066667</td>\n",
       "      <td>0.000000</td>\n",
       "      <td>0.0</td>\n",
       "      <td>0.000000</td>\n",
       "      <td>0.066667</td>\n",
       "    </tr>\n",
       "  </tbody>\n",
       "</table>\n",
       "<p>5 rows × 54 columns</p>\n",
       "</div>"
      ],
      "text/plain": [
       "        ID  ind_malo  hora_reg_norm  dia_reg medio_contacto_grupo  \\\n",
       "0   517534         0       0.434783        6       El Mejor Trato   \n",
       "1  1143911         0       0.869565        3             Facebook   \n",
       "2  1124994         0       0.956522        1       El Mejor Trato   \n",
       "3   200051         0       0.565217        2           Otro_medio   \n",
       "4   528679         0       0.434783        2           Otro_medio   \n",
       "\n",
       "  tipo_mail_rango  ingreso_propio_norm  edad_norm    sexo nivel_estudios  ...  \\\n",
       "0             hot             0.214286   0.006562   Mujer   Licenciatura  ...   \n",
       "1             gma             0.089286   0.014639  Hombre       Maestria  ...   \n",
       "2             gma             0.071429   0.016153  Hombre   Bachillerato  ...   \n",
       "3             hot             0.125000   0.015144   Mujer   Bachillerato  ...   \n",
       "4             hot             0.055714   0.003029  Hombre   Bachillerato  ...   \n",
       "\n",
       "  COMUNICACIONES  con_2m_norm BURO_DE_CREDITO_C   BANCO_C     SIC_C  \\\n",
       "0       0.000000     0.200000          0.277778  0.166667  0.166667   \n",
       "1       0.277778     0.266667          0.360000  0.320000  0.040000   \n",
       "2       0.090909     0.066667          0.111111  0.111111  0.222222   \n",
       "3       0.058824     0.133333          0.142857  0.000000  0.000000   \n",
       "4       0.000000     0.066667          0.266667  0.266667  0.133333   \n",
       "\n",
       "   FINANCIERA_C  CONSUMIDOR_FINAL_C  MICROFINANCIERA_C  TIENDA_COMERCIAL_C  \\\n",
       "0      0.111111            0.166667                0.0            0.055556   \n",
       "1      0.160000            0.040000                0.0            0.000000   \n",
       "2      0.000000            0.222222                0.0            0.222222   \n",
       "3      0.714286            0.000000                0.0            0.000000   \n",
       "4      0.066667            0.000000                0.0            0.000000   \n",
       "\n",
       "   BANCOS_C  \n",
       "0  0.000000  \n",
       "1  0.000000  \n",
       "2  0.000000  \n",
       "3  0.000000  \n",
       "4  0.066667  \n",
       "\n",
       "[5 rows x 54 columns]"
      ]
     },
     "execution_count": 25,
     "metadata": {},
     "output_type": "execute_result"
    }
   ],
   "source": [
    "df_data.head()"
   ]
  },
  {
   "cell_type": "code",
   "execution_count": 26,
   "metadata": {},
   "outputs": [
    {
     "name": "stdout",
     "output_type": "stream",
     "text": [
      "<class 'pandas.core.frame.DataFrame'>\n",
      "RangeIndex: 12660 entries, 0 to 12659\n",
      "Data columns (total 54 columns):\n",
      " #   Column                     Non-Null Count  Dtype  \n",
      "---  ------                     --------------  -----  \n",
      " 0   ID                         12660 non-null  int64  \n",
      " 1   ind_malo                   12660 non-null  int64  \n",
      " 2   hora_reg_norm              12660 non-null  float64\n",
      " 3   dia_reg                    12660 non-null  int64  \n",
      " 4   medio_contacto_grupo       12660 non-null  object \n",
      " 5   tipo_mail_rango            12660 non-null  object \n",
      " 6   ingreso_propio_norm        12651 non-null  float64\n",
      " 7   edad_norm                  12660 non-null  float64\n",
      " 8   sexo                       12660 non-null  object \n",
      " 9   nivel_estudios             12660 non-null  object \n",
      " 10  Estado                     12660 non-null  object \n",
      " 11  destino                    12660 non-null  int64  \n",
      " 12  act_eco                    12660 non-null  object \n",
      " 13  ing_cuota_pf_rv            12654 non-null  float64\n",
      " 14  cuota_mensual_fijos        12660 non-null  int64  \n",
      " 15  cuota_mensual_revolventes  12660 non-null  int64  \n",
      " 16  hist_suf_pf_norm           12660 non-null  float64\n",
      " 17  hist_suf_rv_norm           12660 non-null  float64\n",
      " 18  bc_score_norm              12660 non-null  float64\n",
      " 19  icc_norm                   12660 non-null  float64\n",
      " 20  monto_prom_norm            12660 non-null  float64\n",
      " 21  porc_deuda_12m_norm        12660 non-null  float64\n",
      " 22  porc_fijos_norm            12660 non-null  float64\n",
      " 23  porc_saldo_fijos_norm      12660 non-null  float64\n",
      " 24  pagos_suf_limite_norm      12660 non-null  float64\n",
      " 25  pagos_suf_limite_RV_norm   12660 non-null  float64\n",
      " 26  creditos_general_norm      12660 non-null  float64\n",
      " 27  creditos_general_ab_norm   12660 non-null  float64\n",
      " 28  creditos_recientes_norm    12660 non-null  float64\n",
      " 29  Saldo_Vencido_act_norm     12660 non-null  float64\n",
      " 30  Saldo_Actual_PF_norm       12660 non-null  float64\n",
      " 31  Saldo_Actual_RV_norm       12660 non-null  float64\n",
      " 32  porc_deuda_rev_norm        12660 non-null  float64\n",
      " 33  pagos_suf_limite_PF_norm   12660 non-null  float64\n",
      " 34  porc_mop_1_norm            12660 non-null  float64\n",
      " 35  ind_mop_4_9_norm           12660 non-null  float64\n",
      " 36  mop_max_act_norm           12660 non-null  float64\n",
      " 37  BANCO_HIP                  12660 non-null  float64\n",
      " 38  BANCO_RV                   12660 non-null  float64\n",
      " 39  BANCO_PF                   12660 non-null  float64\n",
      " 40  AUTO                       12660 non-null  float64\n",
      " 41  TIENDA_COMERCIAL           12660 non-null  float64\n",
      " 42  FINANCIERA                 12660 non-null  float64\n",
      " 43  MICROFINANCIERA            12660 non-null  float64\n",
      " 44  COMUNICACIONES             12660 non-null  float64\n",
      " 45  con_2m_norm                12660 non-null  float64\n",
      " 46  BURO_DE_CREDITO_C          12660 non-null  float64\n",
      " 47  BANCO_C                    12660 non-null  float64\n",
      " 48  SIC_C                      12660 non-null  float64\n",
      " 49  FINANCIERA_C               12660 non-null  float64\n",
      " 50  CONSUMIDOR_FINAL_C         12660 non-null  float64\n",
      " 51  MICROFINANCIERA_C          12660 non-null  float64\n",
      " 52  TIENDA_COMERCIAL_C         12660 non-null  float64\n",
      " 53  BANCOS_C                   12660 non-null  float64\n",
      "dtypes: float64(42), int64(6), object(6)\n",
      "memory usage: 5.2+ MB\n"
     ]
    }
   ],
   "source": [
    "df_data.info()"
   ]
  },
  {
   "cell_type": "markdown",
   "metadata": {},
   "source": [
    "Observo que hay diferentes tipos de datos y  que faltan 6 registros en 'ing_cuota_pf_rv' y 9 en 'ingreso_propio_norm' como el porcentaje de los registros flatantes es minimo (.11% tomando en cuenta el peor de los casos. Los registros faltantes en cada columna sean en diferentes filas) los voya eliminar "
   ]
  },
  {
   "cell_type": "code",
   "execution_count": 27,
   "metadata": {},
   "outputs": [],
   "source": [
    "df_data=df_data.dropna()\n",
    "\n",
    "#Al volver a ver la info veo que solo se eliminaron 9 registros por lo que si coincidian en filas los valores faltantes"
   ]
  },
  {
   "cell_type": "code",
   "execution_count": 28,
   "metadata": {},
   "outputs": [
    {
     "name": "stdout",
     "output_type": "stream",
     "text": [
      "0\n"
     ]
    }
   ],
   "source": [
    "#Chequeo de duplicados sobre ID\n",
    "duplicados = df_data['ID'].duplicated().sum()\n",
    "print(duplicados)\n"
   ]
  },
  {
   "cell_type": "code",
   "execution_count": 29,
   "metadata": {},
   "outputs": [],
   "source": [
    "#Eliminar columnas irrelevantes para el modelo\n",
    "df_data = df_data.drop(columns=['hora_reg_norm','tipo_mail_rango','destino'])"
   ]
  },
  {
   "cell_type": "markdown",
   "metadata": {},
   "source": [
    "Al no tener contexto sobre los datos de las columnas y si estos pueden ser relevante spara futuros analisis decido solo eliminar 'hora_reg_norm','tipo_mail_rango','destino' ya que para futuros analisis considero suficiente tener el día, medio de contacto y estado "
   ]
  },
  {
   "cell_type": "code",
   "execution_count": 30,
   "metadata": {},
   "outputs": [],
   "source": [
    "#Chequeo de nulos \n"
   ]
  },
  {
   "cell_type": "code",
   "execution_count": 31,
   "metadata": {},
   "outputs": [
    {
     "name": "stdout",
     "output_type": "stream",
     "text": [
      "\n",
      "Distribución de la variable objetivo:\n",
      "ind_malo\n",
      "0    0.788791\n",
      "1    0.211209\n",
      "Name: proportion, dtype: float64\n"
     ]
    }
   ],
   "source": [
    "print(\"\\nDistribución de la variable objetivo:\")\n",
    "print(df_data['ind_malo'].value_counts(normalize=True))"
   ]
  }
 ],
 "metadata": {
  "kernelspec": {
   "display_name": "Python 3",
   "language": "python",
   "name": "python3"
  },
  "language_info": {
   "codemirror_mode": {
    "name": "ipython",
    "version": 3
   },
   "file_extension": ".py",
   "mimetype": "text/x-python",
   "name": "python",
   "nbconvert_exporter": "python",
   "pygments_lexer": "ipython3",
   "version": "3.10.5"
  }
 },
 "nbformat": 4,
 "nbformat_minor": 2
}
